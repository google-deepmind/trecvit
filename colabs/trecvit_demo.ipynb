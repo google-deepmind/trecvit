{
  "cells": [
    {
      "cell_type": "markdown",
      "metadata": {
        "id": "V3AjB0fgz_SR"
      },
      "source": [
        "\u003cp align=\"center\"\u003e\n",
        "  \u003ch1 align=\"center\"\u003eTRecViT: A Recurrent Video Transformer\u003c/h1\u003e\n",
        "  \u003cp align=\"center\"\u003e\n",
        "    Viorica Patraucean\n",
        "    ·\n",
        "    Xu Owen He\n",
        "    ·\n",
        "    Joseph Heyward\n",
        "    ·\n",
        "    Chuhan Zhang\n",
        "    ·\n",
        "    Mehdi S. M. Sajjadi\n",
        "    ·\n",
        "    George-Cristian Muraru\n",
        "    ·\n",
        "    Artem Zholus\n",
        "    ·\n",
        "    Mahdi Karami\n",
        "    .\n",
        "    Ross Goroshin\n",
        "    .\n",
        "    Yutian Chen\n",
        "    .\n",
        "    Simon Osindero\n",
        "    .\n",
        "    Joao Carreira\n",
        "    .\n",
        "    Razvan Pascanu\n",
        "  \u003c/p\u003e\n",
        "  \u003ch3 align=\"center\"\u003e\u003ca href=\"https://arxiv.org/abs/2412.14294\"\u003ePaper\u003c/a\u003e | \u003ca href=\"https://github.com/deepmind/trecvit\"\u003eGitHub\u003c/a\u003e\u003c/h3\u003e\n",
        "  \u003cdiv align=\"center\"\u003e\u003c/div\u003e\n",
        "\u003c/p\u003e\n",
        "\n",
        "\u003cp align=\"center\"\u003e\n",
        "  \u003ca href=\"\"\u003e\n",
        "    \u003cimg src=\"https://storage.googleapis.com/trecvit/model_checkpoints/diagram.png\" alt=\"Logo\" width=\"50%\"\u003e\n",
        "  \u003c/a\u003e\n",
        "\u003c/p\u003e"
      ]
    },
    {
      "cell_type": "markdown",
      "metadata": {
        "id": "K1vJYDhBxMG6"
      },
      "source": [
        "# Install Dependencies\n"
      ]
    },
    {
      "cell_type": "code",
      "execution_count": null,
      "metadata": {
        "id": "6nr-qdqQ5IBr"
      },
      "outputs": [],
      "source": [
        "!git clone https://github.com/google-deepmind/trecvit.git\n",
        "%cd trecvit\n",
        "!pip install .\n",
        "!wget https://storage.googleapis.com/trecvit/model_checkpoints/trecvit_B_k400.npz\n",
        "!pip install mediapy"
      ]
    },
    {
      "cell_type": "code",
      "execution_count": null,
      "metadata": {
        "id": "UqYkzBHz7d8H"
      },
      "outputs": [],
      "source": [
        "import jax\n",
        "import jax.numpy as jnp\n",
        "import mediapy as media\n",
        "from trecvit import trecvit_model\n",
        "from trecvit import utils"
      ]
    },
    {
      "cell_type": "markdown",
      "metadata": {
        "id": "M6nH2Y86xUei"
      },
      "source": [
        "# Init Model"
      ]
    },
    {
      "cell_type": "code",
      "execution_count": null,
      "metadata": {
        "id": "g2w4aW_X_3AW"
      },
      "outputs": [],
      "source": [
        "num_frames = 32\n",
        "model = trecvit_model.get_model(num_frames=num_frames)\n",
        "\n",
        "x = jnp.zeros((1, num_frames, 224, 224, 3)).astype(jnp.float32)\n",
        "params = model.init(jax.random.key(0), x)\n",
        "path = 'trecvit_B_k400.npz'\n",
        "params = utils.load_ckpt(params, path)\n",
        "\n",
        "@jax.jit\n",
        "def forward(params, x):\n",
        "  return model.apply(params, x)\n"
      ]
    },
    {
      "cell_type": "markdown",
      "metadata": {
        "id": "vs7o_EBHxy1g"
      },
      "source": [
        "# Run Inference"
      ]
    },
    {
      "cell_type": "code",
      "execution_count": null,
      "metadata": {
        "id": "anbkL457rSpX"
      },
      "outputs": [],
      "source": [
        "frames = media.read_video('figures/example.mp4')\n",
        "media.show_video(frames)"
      ]
    },
    {
      "cell_type": "code",
      "execution_count": null,
      "metadata": {
        "id": "9Xu3nd9CrSpX"
      },
      "outputs": [],
      "source": [
        "out = forward(params, frames[None]/255)\n",
        "label = out['probs'].argmax(axis=-1, keepdims=True)\n",
        "print('video_action_label: ', label)\n",
        "\n",
        "# Expected label: 213 - petting a cat"
      ]
    }
  ],
  "metadata": {
    "colab": {
      "provenance": []
    },
    "kernelspec": {
      "display_name": "Python 3",
      "name": "python3"
    },
    "language_info": {
      "name": "python"
    }
  },
  "nbformat": 4,
  "nbformat_minor": 0
}
